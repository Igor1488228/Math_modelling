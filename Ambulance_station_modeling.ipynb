{
  "cells": [
    {
      "cell_type": "markdown",
      "metadata": {
        "id": "w9d_pvCqH7xe"
      },
      "source": [
        "<left>   \n",
        "  <img src=\"https://kpi.ua/files/images/kpi.png\" width=\"300\" alt=\"kpi logo\"  />\n",
        "</left>"
      ]
    },
    {
      "cell_type": "markdown",
      "metadata": {
        "id": "LrkCBpYsIFRx"
      },
      "source": [
        "# **Проект із математичного моделювання на тему:**\n",
        "# **\"Моделювання роботи швидкої\"**\n",
        "# Біцана Ігоря, група КМ-82"
      ]
    },
    {
      "cell_type": "markdown",
      "metadata": {
        "id": "kEeIhzGsI0d5"
      },
      "source": [
        "***Область задачі:***\n",
        "Медицина"
      ]
    },
    {
      "cell_type": "markdown",
      "metadata": {
        "id": "EqJzSIx8I6oA"
      },
      "source": [
        "***Основні складові роботи швидкої:***"
      ]
    },
    {
      "cell_type": "markdown",
      "metadata": {
        "id": "t7K8XwmCJOm2"
      },
      "source": [
        "* місце знаходження хворої людини, яка потребує допомоги (мають свої координати) ;\n",
        "* точка доставки хворого (хворих) до лікарні ;\n",
        "* відстань між лікарнею та хворим ;\n",
        "* собівартість та час поїздки (встановлюється в залежності від відстані)."
      ]
    },
    {
      "cell_type": "markdown",
      "metadata": {
        "id": "iNHRMvt9IWKv"
      },
      "source": [
        "***Постановка завдання:*** cкласти оптимальний маршрут довезення хворого від місця знаходження до лікарень з урахуванням всіх складових швидкої, мінімізуючи витрати та час поїздки."
      ]
    },
    {
      "cell_type": "markdown",
      "metadata": {
        "id": "hO2niRjPJnXt"
      },
      "source": [
        "## Зміст\n"
      ]
    },
    {
      "cell_type": "markdown",
      "metadata": {
        "id": "lSSR4xGJJqVM"
      },
      "source": [
        "* Існуючі методи розв’язання транспортних задач \n",
        "* Обрання методу розв’язання\n",
        "* Алгоритм розв’язання транспортної задачі\n",
        "* Теоретичні відомості щодо розв'язання задачі\n",
        "* Розв'язання поставленої задачі\n",
        "  * Імпортування бібліотек\n",
        "  * Визначення констант\n",
        "  * Опис функцій\n",
        "  * Розв'язок та відображення результатів  \n",
        "* Висновки \n",
        "* Про виконавця\n",
        "* Посилання"
      ]
    },
    {
      "cell_type": "markdown",
      "metadata": {
        "id": "4kh30AV4NVbX"
      },
      "source": [
        "## Існуючі методи розв’язання транспортних задач"
      ]
    },
    {
      "cell_type": "markdown",
      "metadata": {
        "id": "XQ5PFopRNn67"
      },
      "source": [
        "**Для знаходження опорного плану:**\n",
        "* Метод мінімального елемента \n",
        "* Метод північно-західного кута \n",
        "* Метод апроксимації Фогеля \n"
      ]
    },
    {
      "cell_type": "markdown",
      "metadata": {
        "id": "Xid4F2PWN4D4"
      },
      "source": [
        "**Для знаходження оптимального плану:**\n",
        "* Метод потенціалів\n",
        "* Метод диференціальних рент"
      ]
    },
    {
      "cell_type": "markdown",
      "metadata": {
        "id": "qvOJfrKDOMwd"
      },
      "source": [
        "## Обрання методу розв’язання"
      ]
    },
    {
      "cell_type": "markdown",
      "metadata": {
        "id": "HJkMk5nNOaJ1"
      },
      "source": [
        "*Знаходження опорного плану*: метод північно-західного кута.\n"
      ]
    },
    {
      "cell_type": "markdown",
      "metadata": {
        "id": "o5CLhQAxOnEq"
      },
      "source": [
        "*Знаходження оптимального плану*: метод потенціалів."
      ]
    },
    {
      "cell_type": "markdown",
      "metadata": {
        "id": "z-8I78WSOnwb"
      },
      "source": [
        "## Алгоритм розв’язання транспортної задачі"
      ]
    },
    {
      "cell_type": "markdown",
      "metadata": {
        "id": "-Wz4zKnoOqyJ"
      },
      "source": [
        "1. Побудова транспортної  таблиці.\n",
        "2. Перевірка задачі на закритість.\n",
        "3. Складання опорного плану.\n",
        "4. Перевірка опорного плану на виродженість.\n",
        "5. Обчислення потенціалів для маршруту перевезення.\n",
        "6. Перевірка опорного плану на оптимальність.\n",
        "7. Перерозподіл поставок.\n",
        "8. Якщо оптимальне рішення знайдено - перехід до наступного пункту алгоритму. Якщо рішення не оптимальне - повернення до пункту 5 даного алгоритму.\n",
        "9. Обчислення загальних витрат на перевезення хворих."
      ]
    },
    {
      "cell_type": "markdown",
      "metadata": {
        "id": "zfmnSqE7f8b6"
      },
      "source": [
        "## Теоретичні відомості щодо розв'язання задачі"
      ]
    },
    {
      "cell_type": "markdown",
      "metadata": {
        "id": "DE9V_0Yxf-IW"
      },
      "source": [
        "**Побудова транспортної задачі**. На першому етапі розв’язку транспортної задачі виконується заповнення транспортної таблиці початковими даними, де вказуються хворі, що знаходятся в певному місті (**Ai**), та лікарні (**Bj**) у цих товарах. У нижній правий кут осередків таблиці заноситься значення тарифів перевезення (**Cij**). "
      ]
    },
    {
      "cell_type": "markdown",
      "metadata": {
        "id": "lGp0wc0lgpM6"
      },
      "source": [
        "**Перевірка задачі на закритість.** Нехай, загальний запас місць у лікарнях А, а загальну потребу в ліжкомісцях у всіх хворих - символом В: <left>   \n",
        "  <img src=\"http://galyautdinov.ru/articles/imgs/transportnaya-zadacha-03.gif\" width=\"250\" alt=\"transport table\"  />\n",
        "</left>\n",
        "\n",
        "Тоді, транспортна задача називається закритою, якщо **A = B** . \n",
        "Якщо ж **A ≠ B** , то транспортна задача називається відкритою. \n",
        "* У разі закритої задачі всіх хворих буде розміщено до найближчих лікарень, і всі будуть задоволені. \n",
        "* У разі відкритої задачі для її вирішення доведеться вводити фіктивних хворих чи місця у лікарні.\n"
      ]
    },
    {
      "cell_type": "markdown",
      "metadata": {
        "id": "zEbp4dmkherk"
      },
      "source": [
        "**Метод північно-західного кута (ПЗК)** "
      ]
    },
    {
      "cell_type": "markdown",
      "metadata": {
        "id": "eFEEBF2JknTP"
      },
      "source": [
        "*Суть методу*: метод ПЗК використовується для знаходження опорного плану ТЗ та полягає у заповненні плану перевезення, починаючи з самих верхніх (північних) пунктів направлення, за рахунок самих лівих (західних) пунктів призначення, і так поки що таблиця не буде заповнена повністю.\n",
        "\n",
        "\n"
      ]
    },
    {
      "cell_type": "markdown",
      "metadata": {
        "id": "n_sjKcdmlX3Q"
      },
      "source": [
        "*Властивість допустимого плану*: сума перевезень по рядку дорівнює запасу, а по стовпцю – заявці. \n",
        "*Невиродженість плану.* План називається невиродженим, якщо відмінних від нуля перевезень (базисні клітинки таблиці) рівно **m + n - 1**. Інакше - вироджений (менше ніж **m + n - 1** базисних клітинок таблиці). \n",
        "*Мета на даному етапі розв’язку ТЗ* - отримати невироджений план. Даний план і буде опорним."
      ]
    },
    {
      "cell_type": "markdown",
      "metadata": {
        "id": "F3UXovENlu9v"
      },
      "source": [
        "**Метод потенціалів**"
      ]
    },
    {
      "cell_type": "markdown",
      "metadata": {
        "id": "oy-soStomSCH"
      },
      "source": [
        "*Методом потенціалів* - це метод покращення плану перевезень на основі опорного плану."
      ]
    },
    {
      "cell_type": "markdown",
      "metadata": {
        "id": "gceCEl8qnOEH"
      },
      "source": [
        "Для даного методу необхідно ввести *додаткові характеристики пунктів відправлення та призначення - потенціали*."
      ]
    },
    {
      "cell_type": "markdown",
      "metadata": {
        "id": "KrKo8HfEniuR"
      },
      "source": [
        "Потрібно зіставити кожному швидкій Ai та кожній лікарні Bj відповідні величини Ui та Vj так, щоб для всіх базисних клітинок плану було виконано таке співвідношення: \n",
        "**Ui + Vj = Cij** . \n",
        "Це і будуть *потенціали*."
      ]
    },
    {
      "cell_type": "markdown",
      "metadata": {
        "id": "a3RTE5xkn3tC"
      },
      "source": [
        "*Перевірка плану на оптимальність.* Це наступний етап даного методу.Для кожної вільної клітини плану потрібно обчислити різниці **ΔCij = Cij — (Ui + Vj)** і записати отримані значення у лівих нижніх кутах відповідних комірок у клітинках.\n",
        "План є оптимальним, якщо всі різниці **ΔCij ≥ 0**.\n",
        "У випадку не оптимального плану, його потрібно покращити шляхом перерозподілу хворих.\n"
      ]
    },
    {
      "cell_type": "markdown",
      "metadata": {
        "id": "LDXyyfrzq-ob"
      },
      "source": [
        "*Перерозподіл хворих*. Потрібно знайти комірку з найбільшою по абсолютній величині (тобто без урахування знака, за модулем) негативною різницею **ΔCij** і побудувати цикл, у якому крім цієї клітини решта є базисними. \n",
        "Такий цикл завжди існує і єдиний.\n",
        "\n",
        "\n",
        "Комірка з негативною різницею **ΔCij** позначається знаком «+», наступна - знаком «-», і так далі, по черзі.\n",
        "Потім потрібно знайти мінімальне значення вантажу в комірках циклу, що мають знак «-», і вписати його у вільну комірку зі знаком «+». Потім потрібно послідовно обійти всі комірки циклу, по черзі віднімаючи і додаючи до них мінімальне значення (відповідно до знаків, якими ці комірки позначені: де мінус - віднімається, де плюс - додається)."
      ]
    },
    {
      "cell_type": "markdown",
      "metadata": {
        "id": "gDbni7ijr6UJ"
      },
      "source": [
        "*Завершальний етап*. Отримано новий опорний план перевезення.\n",
        "Якщо базисних клітин стало більше, ніж **m + n - 1**, то базисну клітину з нульовим значенням слід зробити вільною.\n",
        "Знову обчислюються значення потенціалів та різниці **ΔCij**.\n",
        "Якщо всі різниці **ΔCij** комірок позитивні, то отримане рішення є оптимальним. Інакше - продовжуємо ітеративний процес знаходження оптимального плану, починаючи з пункту 5 алгоритму розв’язання ТЗ. \n"
      ]
    },
    {
      "cell_type": "markdown",
      "metadata": {
        "id": "hSgNbvkYshQA"
      },
      "source": [
        "**Обчислення загальних витрат на перевезення хворих**"
      ]
    },
    {
      "cell_type": "markdown",
      "metadata": {
        "id": "D5G2yjMB1Ins"
      },
      "source": [
        "Потрібно обчислити загальні *витрати на перевезення хворих* (**Z**), *що відповідають знайденому оптимальному плану*, за формулою:\n",
        "<left>   \n",
        "  <img src=\"http://galyautdinov.ru/articles/imgs/transportnaya-zadacha-16.gif\" width=\"200\" alt=\"transport table\"  />\n",
        "</left>\n",
        "\n",
        "Тобто потрібно перемножити значення обсягів перевезень на відповідні тарифи.\n",
        "*Це і буде остаточною відповіддю задачі* (тобто загальні витрати на доставку хворих у випадку даної задачі).\n"
      ]
    },
    {
      "cell_type": "markdown",
      "metadata": {
        "id": "FExA2Tzk4tP7"
      },
      "source": [
        "## Розв'язання поставленої задачі"
      ]
    },
    {
      "cell_type": "markdown",
      "metadata": {
        "id": "BrU0tMQ24vHo"
      },
      "source": [
        "### Імпортування бібліотек"
      ]
    },
    {
      "cell_type": "code",
      "execution_count": 1,
      "metadata": {
        "id": "6nmUtpZT4y2y"
      },
      "outputs": [],
      "source": [
        "import sys\n",
        "import math"
      ]
    },
    {
      "cell_type": "markdown",
      "metadata": {
        "id": "348KTKb85FOm"
      },
      "source": [
        "### Визначення констант"
      ]
    },
    {
      "cell_type": "markdown",
      "metadata": {
        "id": "341_ABAOXO0F"
      },
      "source": [
        "Ініціалізуємо початкові дані даної транспортної задачі."
      ]
    },
    {
      "cell_type": "markdown",
      "metadata": {
        "id": "Aey5iygyXb1R"
      },
      "source": [
        "Обсяг хворих, що знаходиться в певному місті, яких необхідно доставити по лікарням:"
      ]
    },
    {
      "cell_type": "code",
      "execution_count": 2,
      "metadata": {
        "id": "KqzWD3P05Gy_"
      },
      "outputs": [],
      "source": [
        "# stocks = [int(a) for a in input().split()]  # change to definite values\n",
        "stocks = [30, 15, 25]"
      ]
    },
    {
      "cell_type": "markdown",
      "metadata": {
        "id": "V0sdxig_Xxr4"
      },
      "source": [
        "Кількість людей, яких можуть прийняти лікарні:"
      ]
    },
    {
      "cell_type": "code",
      "execution_count": 3,
      "metadata": {
        "id": "4gV4C8yeX3sP"
      },
      "outputs": [],
      "source": [
        "# clients = [int(a) for a in input().split()]\n",
        "clients = [15, 20, 25, 10]"
      ]
    },
    {
      "cell_type": "markdown",
      "metadata": {
        "id": "7ky4FyrxX3_Q"
      },
      "source": [
        "Вартість швидкої (за одиницю відстані):"
      ]
    },
    {
      "cell_type": "code",
      "execution_count": 4,
      "metadata": {
        "id": "sKrnh8M9X_2y"
      },
      "outputs": [],
      "source": [
        "# p = input()\n",
        "p = 2"
      ]
    },
    {
      "cell_type": "markdown",
      "metadata": {
        "id": "vwZXssn1YALn"
      },
      "source": [
        "Координати хворих, від яких їде швидка:"
      ]
    },
    {
      "cell_type": "code",
      "execution_count": 5,
      "metadata": {
        "id": "qTEn1-5VYPDb"
      },
      "outputs": [],
      "source": [
        "# scoords = [a for a in input().split()]\n",
        "scoords = ['0;10', '15;5', '10;0']"
      ]
    },
    {
      "cell_type": "markdown",
      "metadata": {
        "id": "aUjkfCFbYPT7"
      },
      "source": [
        "Координати лікарень:"
      ]
    },
    {
      "cell_type": "code",
      "execution_count": 6,
      "metadata": {
        "id": "OFZ1Ov4LYYJJ"
      },
      "outputs": [],
      "source": [
        "# ccoords = [a for a in input().split()]\n",
        "ccoords = ['25;0', '15;10', '5;15', '20;5']"
      ]
    },
    {
      "cell_type": "markdown",
      "metadata": {
        "id": "kKXglzBa--IL"
      },
      "source": [
        "### Опис функцій"
      ]
    },
    {
      "cell_type": "markdown",
      "metadata": {
        "id": "mcuQSy7pAUUH"
      },
      "source": [
        "Функція drawTable() зображає транспортну таблицю, заповнену вхідними даними  транспортної задачі. В якості вхідних аргументів дана функція приймає t - тарифи перевезень, s - місцезнаходження хворого, c - місцезнаходження лікарні."
      ]
    },
    {
      "cell_type": "code",
      "execution_count": 7,
      "metadata": {
        "id": "wwod5lVx_ATt"
      },
      "outputs": [],
      "source": [
        "def drawTable(t, s, c):\n",
        "    print(\"   \", end=\"\")\n",
        "    for i in range(len(t[0])):\n",
        "        print(\" | %s%d   \" % (\"B\", i + 1), end=\"\")\n",
        "    print(\" |\")\n",
        "    for a in t:\n",
        "        print(\"%s%d \" % (\"A\", t.index(a) + 1), end=\"\")\n",
        "        for b in a:\n",
        "            print(\" | %.2f\" % b, end =\"\")\n",
        "        print(\" | %d\" % s[t.index(a)])\n",
        "    print(\"   \", end=\"\")\n",
        "    for a in c:\n",
        "        print(\" | %d   \" % a, end=\"\")\n",
        "    print(\" |\")"
      ]
    },
    {
      "cell_type": "markdown",
      "metadata": {
        "id": "KyDgF2SVBsx4"
      },
      "source": [
        "Функція drawOptima() зображує оптимальний план перевезення, тобто виводить даний план користувачу на екран. В якості вхідних аргументів дана функція приймає base - опорний план перевезень, s - точка знаходження хворого, c - точка знаходження лікарні."
      ]
    },
    {
      "cell_type": "code",
      "execution_count": 8,
      "metadata": {
        "id": "Y_UpxB_UBtHi"
      },
      "outputs": [],
      "source": [
        "def drawOptima(base, s, c):\n",
        "    print(\"   \", end=\"\")\n",
        "    for i in range(len(base[0])):\n",
        "        print(\" | %s%d  \" % (\"B\", i + 1), end=\"\")\n",
        "    print(\" |\")\n",
        "    for a in base:\n",
        "        print(\"%s%d \" % (\"A\", base.index(a) + 1), end=\"\")\n",
        "        for b in a:\n",
        "            if b != - 1 and b != 0:\n",
        "                print(\" | %4d\" % b, end =\"\")\n",
        "            else:\n",
        "                print(\" |     \", end =\"\")\n",
        "        print(\" | %d\" % s[base.index(a)])\n",
        "    print(\"   \", end=\"\")\n",
        "    for a in c:\n",
        "        print(\" | %d  \" % a, end=\"\")\n",
        "    print(\" |\")\n",
        "    for i in range(len(s)):\n",
        "        print(\"Z punktu %d:\" % (i + 1))\n",
        "        for j in range(len(c)):\n",
        "            if base[i][j] != -1 and base[i][j] != 0:\n",
        "                print(\"\\t%d odynyc klientu %d\" % (base[i][j], j + 1))"
      ]
    },
    {
      "cell_type": "markdown",
      "metadata": {
        "id": "hvaH15M-Bt0R"
      },
      "source": [
        "Функція allTrue() є суто допоміжною, використовувалася для дебагу:"
      ]
    },
    {
      "cell_type": "code",
      "execution_count": 9,
      "metadata": {
        "id": "oTxfY7dnBuMT"
      },
      "outputs": [],
      "source": [
        "def allTrue(arr):\n",
        "    true = True\n",
        "    for i in arr:\n",
        "        if not i:\n",
        "            true = False\n",
        "            break\n",
        "    return true"
      ]
    },
    {
      "cell_type": "markdown",
      "metadata": {
        "id": "nt8OXr8eCinj"
      },
      "source": [
        "Функція findPoten() є функцією знаходження потенціалів, яка приймає на вхід наступні аргументи: v та u - додаткові характеристики пунктів відправлення та призначення (потенціали), hArr - допоміжня матриця, яка зберігає позиції потенціалів (де +, а де -), a - місце знаходження хворого, b - точка знаходження лікарні."
      ]
    },
    {
      "cell_type": "markdown",
      "metadata": {
        "id": "Qye3igy-Y10u"
      },
      "source": [
        "*Теорія до знаходження потенціалів в транспортній задачі*: https://ru.wikipedia.org/wiki/Метод_потенциалов . "
      ]
    },
    {
      "cell_type": "code",
      "execution_count": 10,
      "metadata": {
        "id": "3CZ-TDhvCjDI"
      },
      "outputs": [],
      "source": [
        "def findPoten(v, u, hArr, a, b):\n",
        "    u1 = [False for i in range(len(a))]\n",
        "    v1 = [False for j in range(len(b))]\n",
        "    u[0] = 0\n",
        "    u1[0] = True\n",
        "    for j in range(len(b)):\n",
        "        if hArr[0][j] != -1:\n",
        "            v[j] = hArr[0][j]\n",
        "            v1[j] = True\n",
        "    while True:\n",
        "        for i in range(1, len(a), 1):\n",
        "            for j in range(len(b)):\n",
        "                if hArr[i][j] != -1:\n",
        "                    if not u1[i]:\n",
        "                        if v1[j]:\n",
        "                            u[i] = hArr[i][j] - v[j]\n",
        "                            u1[i] = True\n",
        "                    elif not v1[j]:\n",
        "                        v[j] = hArr[i][j] - u[i]\n",
        "                        v1[j] = True\n",
        "        if allTrue(u1) and allTrue(v1):\n",
        "            break"
      ]
    },
    {
      "cell_type": "markdown",
      "metadata": {
        "id": "2VHZq196Cl0w"
      },
      "source": [
        "Функція makeSMatr() - функція, яка створює матрицю суми потенціалів, по якій перевіряється оптимальність. В якості аргументів приймає допоміжну матрицю, потенціали і матрицю вартості перевезень:"
      ]
    },
    {
      "cell_type": "code",
      "execution_count": 11,
      "metadata": {
        "id": "-llCfvG1CmiK"
      },
      "outputs": [],
      "source": [
        "def makeSMatr(hArr, u, v, carr):\n",
        "    hm = []\n",
        "    for i in range(len(u)):\n",
        "        hm.append([0 for j in range(len(v))])\n",
        "    for i in range(len(u)):\n",
        "        for j in range(len(v)):\n",
        "            hm[i][j] = hArr[i][j]\n",
        "            if hm[i][j] == -1:\n",
        "                hm[i][j] = carr[i][j] - (u[i] + v[j])\n",
        "    return hm"
      ]
    },
    {
      "cell_type": "markdown",
      "metadata": {
        "id": "-geXOQqpCpUv"
      },
      "source": [
        "Функція allPositive() - це функція (яка приймає на вхід поточний план) для перевірки плану на оптимальність (за критерієм ΔCij ≥ 0):"
      ]
    },
    {
      "cell_type": "code",
      "execution_count": 12,
      "metadata": {
        "id": "yNs4kn8bCpwn"
      },
      "outputs": [],
      "source": [
        "def allPositive(matr):\n",
        "    p = True\n",
        "    for i in range(len(matr)):\n",
        "        for j in range(len(matr[i])):\n",
        "            if matr[i][j] < 0:\n",
        "                p = False\n",
        "                break\n",
        "        if p == False:\n",
        "            break\n",
        "    return p"
      ]
    },
    {
      "cell_type": "markdown",
      "metadata": {
        "id": "egpm7RLxCsfU"
      },
      "source": [
        "Функція moves() шукає доступну позицію при формуванні циклів. У функцію передається матриця з усіма доступними позиціями, поточна позиція та напрямок пошуку:"
      ]
    },
    {
      "cell_type": "code",
      "execution_count": 13,
      "metadata": {
        "id": "HJs_XX4pCs9P"
      },
      "outputs": [],
      "source": [
        "def moves(z, x, y, d):\n",
        "    poss = []\n",
        "    if d == 'l':\n",
        "        if y - 1 > -1:\n",
        "            for j in range(y - 1, -1, -1):\n",
        "                if z[x][j]:\n",
        "                    poss.append([x, j])\n",
        "    elif d == 'r':\n",
        "        if y + 1 < len(z[0]):\n",
        "            for j in range(y + 1, len(z[0]), 1):\n",
        "                if z[x][j]:\n",
        "                    poss.append([x, j])\n",
        "    elif d == 'u':\n",
        "        if x - 1 > -1:\n",
        "            for i in range(x - 1, -1, -1):\n",
        "                if z[i][y]:\n",
        "                    poss.append([i, y])\n",
        "    elif d == 'd':\n",
        "        if x + 1 < len(z):\n",
        "            for i in range(x + 1, len(z), 1):\n",
        "                if z[i][y]:\n",
        "                    poss.append([i, y])\n",
        "    return poss"
      ]
    },
    {
      "cell_type": "markdown",
      "metadata": {
        "id": "p4uJjHc5CwDw"
      },
      "source": [
        "Функція getCycle() формує та повертає на виході цикл, який шукається на етапі перерозподілу хворих у випадку попередньо знайденого неоптимального плану для його покращення:"
      ]
    },
    {
      "cell_type": "code",
      "execution_count": 14,
      "metadata": {
        "id": "f8iCGTrcCwap"
      },
      "outputs": [],
      "source": [
        "def getCycle(x, y, base):\n",
        "    z = []\n",
        "    for i in range(len(base)):\n",
        "        z.append([False for j in range(len(base[0]))])\n",
        "    for i in range(len(base)):\n",
        "        for j in range(len(base[0])):\n",
        "            if base[i][j] != -1:\n",
        "                z[i][j] = True\n",
        "    cycle = []\n",
        "    right = moves(z, x, y, 'r')\n",
        "    left = moves(z, x, y, 'l')\n",
        "    d0 = 'x'\n",
        "    point0 = [x, y]\n",
        "    if len(right) > 0 and len(left) == 0:\n",
        "        if len(right) == 1:\n",
        "            cycle.append(right[0])\n",
        "            d0 = 'y'\n",
        "            point0 = right[0]\n",
        "    elif len(right) == 0 and len(left) > 0:\n",
        "        if len(left) == 1:\n",
        "            cycle.append(left[0])\n",
        "            d0 = 'y'\n",
        "            point0 = left[0]\n",
        "    cycle1 = []\n",
        "    d = d0\n",
        "    point = point0\n",
        "    z[x][y] = True\n",
        "    while True:\n",
        "        if d == 'x':\n",
        "            right = moves(z, point[0], point[1], 'r')\n",
        "            left = moves(z, point[0], point[1], 'l')\n",
        "            if ([x, y] in right) or ([x,y] in left):\n",
        "                cycle1.append([x,y])\n",
        "                break\n",
        "            if len(right) > 0:\n",
        "                cycle1.append(right[0])\n",
        "                d = 'y'\n",
        "                point = right[0]\n",
        "            elif len(left) > 0:\n",
        "                cycle1.append(left[0])\n",
        "                d = 'y'\n",
        "                point = left[0]\n",
        "            else:\n",
        "                z[point[0]][point[1]] = False\n",
        "                d = d0\n",
        "                cycle1.clear()\n",
        "                point = point0\n",
        "        elif d == 'y':\n",
        "            down = moves(z, point[0], point[1], 'd')\n",
        "            up = moves(z, point[0], point[1], 'u')\n",
        "            if ([x, y] in up) or ([x,y] in down):\n",
        "                cycle1.append([x,y])\n",
        "                break\n",
        "            if len(down) > 0:\n",
        "                cycle1.append(down[0])\n",
        "                d = 'x'\n",
        "                point = down[0]\n",
        "            elif len(up) > 0:\n",
        "                cycle1.append(up[0])\n",
        "                d = 'x'\n",
        "                point = up[0]\n",
        "            else:\n",
        "                z[point[0]][point[1]] = False\n",
        "                d = d0\n",
        "                cycle1.clear()\n",
        "                point = point0\n",
        "        if len(cycle1) > 0 and cycle1[len(cycle1) - 1] == [x, y]:\n",
        "            break\n",
        "    for i in range(len(cycle1)):\n",
        "        cycle.append(cycle1[i])\n",
        "    return cycle"
      ]
    },
    {
      "cell_type": "markdown",
      "metadata": {
        "id": "HaGxDpREC28K"
      },
      "source": [
        "Функція roll() - робить прогонку всіх операцій, щоб сформувати новий опорний план. Приймає в якості аргументів базову матрицю, матрицю суми потенціалів:"
      ]
    },
    {
      "cell_type": "code",
      "execution_count": 15,
      "metadata": {
        "id": "EFDNjVn_C3T_"
      },
      "outputs": [],
      "source": [
        "def roll(base, s, zapol):\n",
        "    minim = 0\n",
        "    minInd = [-1,-1]\n",
        "    k = 0\n",
        "    allowed = [[-1,-1] for i in range(len(base) + len(base[0]))]\n",
        "    for i in range(len(base)):\n",
        "        for j in range(len(base[i])):\n",
        "            if base[i][j] != -1:\n",
        "                allowed[k][0] = i\n",
        "                allowed[k][1] = j\n",
        "                k += 1\n",
        "            if s[i][j] < minim:\n",
        "                minim = s[i][j]\n",
        "                minInd[0] = i\n",
        "                minInd[1] = j\n",
        "    allowed[len(allowed) - 1][0] = minInd[0]\n",
        "    allowed[len(allowed) - 1][1] = minInd[1]\n",
        "    cycle = getCycle(minInd[0], minInd[1], base)\n",
        "    cycles = []\n",
        "    bCycles = []\n",
        "    for i in range(len(cycle)):\n",
        "        if i == len(cycle) - 1:\n",
        "            bCycles.append(False)\n",
        "        else:\n",
        "            bCycles.append(True)\n",
        "    minim = 1000\n",
        "    for i in range(len(cycle)):\n",
        "        cycles.append(base[cycle[i][0]][cycle[i][1]])\n",
        "        if (i % 2 == 0) and (cycles[i] != -1) and (cycles[i] < minim):\n",
        "            minim = cycles[i]\n",
        "            minInd = cycle[i]\n",
        "        if cycles[i] == -1:\n",
        "            cycles[i] = 0\n",
        "    for i in range(len(cycle)):\n",
        "        if i % 2 == 0:\n",
        "            cycles[i] -= minim\n",
        "            base[cycle[i][0]][cycle[i][1]] -= minim\n",
        "        else:\n",
        "            cycles[i] += minim\n",
        "            if base[cycle[i][0]][cycle[i][1]] == -1:\n",
        "                base[cycle[i][0]][cycle[i][1]] = 0\n",
        "            base[cycle[i][0]][cycle[i][1]] += minim\n",
        "    base[minInd[0]][minInd[1]] = -1"
      ]
    },
    {
      "cell_type": "markdown",
      "metadata": {
        "id": "VSyiGc25C9nZ"
      },
      "source": [
        "Функція potenMeth() - головна функція, яка стосується безпосередньо реалізації методу потенціалів, тобто за допомогою неї знаходиться оптимальний план, а також обчислюються загальні витрати на перевезення на основі оптимального плану:"
      ]
    },
    {
      "cell_type": "code",
      "execution_count": 16,
      "metadata": {
        "id": "-qKyVis3C-Dx"
      },
      "outputs": [],
      "source": [
        "def potenMeth(base, aarr, barr, carr):\n",
        "    helpMatrix = []\n",
        "    zapol = []\n",
        "    for i in range(len(aarr)):\n",
        "        helpMatrix.append([-1 for j in range(len(barr))])\n",
        "        zapol.append([False for j in range(len(barr))])\n",
        "    for i in range(len(aarr)):\n",
        "        for j in range(len(barr)):\n",
        "            if base[i][j] != -1:\n",
        "                helpMatrix[i][j] = carr[i][j]\n",
        "                zapol[i][j] = True\n",
        "    u = [0 for i in range(len(aarr))]\n",
        "    v = [0 for j in range(len(barr))]\n",
        "    findPoten(v, u, helpMatrix, aarr, barr)\n",
        "    sMatr = makeSMatr(helpMatrix, u, v, carr)\n",
        "    while not allPositive(sMatr):\n",
        "        roll(base, sMatr, zapol)\n",
        "        for i in range(len(aarr)):\n",
        "            for j in range(len(barr)):\n",
        "                if base[i][j] != -1:\n",
        "                    helpMatrix[i][j] = carr[i][j]\n",
        "                else:\n",
        "                    helpMatrix[i][j] = -1\n",
        "        findPoten(v, u, helpMatrix, aarr, barr)\n",
        "        sMatr = makeSMatr(helpMatrix, u, v, carr)\n",
        "    print(\"Optimalna schema rozpodilu:\")\n",
        "    drawOptima(base, aarr, barr)\n",
        "    fx = 0\n",
        "    for i in range(len(aarr)):\n",
        "        for j in range(len(barr)):\n",
        "            if base[i][j] != -1:\n",
        "                fx += base[i][j] * helpMatrix[i][j]\n",
        "    print(\"Minimalni vytraty F(x) = %.2f\" % fx);\n",
        "    return helpMatrix"
      ]
    },
    {
      "cell_type": "markdown",
      "metadata": {
        "id": "k6LgrP99_EIG"
      },
      "source": [
        "### Розв'язок та відображення результатів"
      ]
    },
    {
      "cell_type": "markdown",
      "metadata": {
        "id": "PYOO5JUl_aRx"
      },
      "source": [
        "Перевірка на закритість транспортної задачі:"
      ]
    },
    {
      "cell_type": "code",
      "execution_count": 17,
      "metadata": {
        "colab": {
          "base_uri": "https://localhost:8080/"
        },
        "id": "ScpsrqHj_Fbd",
        "outputId": "ffefada3-e5d0-4efa-84d8-2a30561a5aec"
      },
      "outputs": [
        {
          "name": "stdout",
          "output_type": "stream",
          "text": [
            "Zadacha zbalansovana. Model zakryta\n"
          ]
        }
      ],
      "source": [
        "if sum(stocks) == sum(clients):\n",
        "    print(\"Zadacha zbalansovana. Model zakryta\")\n",
        "else:\n",
        "    print(\"Model vidkryta\")\n",
        "    sys.exit()"
      ]
    },
    {
      "cell_type": "markdown",
      "metadata": {
        "id": "kMjgqfJVb5SU"
      },
      "source": [
        "Знаходження матриці тарифів перевезень хворих шляхом перемноження вартості за одиницю відстані на відстань доставки до лікарні з місцезнаходження хворого:"
      ]
    },
    {
      "cell_type": "code",
      "execution_count": 18,
      "metadata": {
        "id": "WkFeSshb_Z2X"
      },
      "outputs": [],
      "source": [
        "c = []\n",
        "for i in scoords:\n",
        "    c.append([float(p) * math.sqrt(math.pow(float(a.split(';')[0]) - float(i.split(';')[0]), 2) + math.pow(float(a.split(';')[1]) - float(i.split(';')[1]), 2)) for a in ccoords])"
      ]
    },
    {
      "cell_type": "markdown",
      "metadata": {
        "id": "CYvabzdMc5id"
      },
      "source": [
        "Побудова транспортної таблиці, заповненої вхідними даними:"
      ]
    },
    {
      "cell_type": "code",
      "execution_count": 22,
      "metadata": {
        "colab": {
          "base_uri": "https://localhost:8080/"
        },
        "id": "hPoX9qCB_byC",
        "outputId": "13d7d7ab-4c94-440a-f84f-2f3214530a1b"
      },
      "outputs": [
        {
          "name": "stdout",
          "output_type": "stream",
          "text": [
            "    | B1    | B2    | B3    | B4    |\n",
            "A1  | 53.85 | 30.00 | 14.14 | 41.23 | 30\n",
            "A2  | 22.36 | 10.00 | 28.28 | 10.00 | 15\n",
            "A3  | 30.00 | 22.36 | 31.62 | 22.36 | 25\n",
            "    | 15    | 20    | 25    | 10    |\n"
          ]
        }
      ],
      "source": [
        "drawTable(c, stocks, clients)"
      ]
    },
    {
      "cell_type": "markdown",
      "metadata": {
        "id": "ujlYyeZkdpu4"
      },
      "source": [
        "Знаходження опорного плану перевезення товару клієнтам методом північно-західного кута:"
      ]
    },
    {
      "cell_type": "markdown",
      "metadata": {
        "id": "dAhcKY3bhP8r"
      },
      "source": [
        "*Теорія до методу північно-західного кута* https://uk.wikipedia.org/wiki/Транспортна_задача#Метод_північно-західного_кута"
      ]
    },
    {
      "cell_type": "code",
      "execution_count": 20,
      "metadata": {
        "id": "LN8qZuHXdqHz"
      },
      "outputs": [],
      "source": [
        "nwa = []\n",
        "for i in range(len(stocks)):\n",
        "    nwa.append([-1 for j in range(len(clients))])\n",
        "i = 0\n",
        "j = 0\n",
        "stock = stocks[i]\n",
        "client = clients[j]\n",
        "while True:\n",
        "    dif = min(stock, client)\n",
        "    nwa[i][j] = dif\n",
        "    stock -= dif\n",
        "    client -= dif\n",
        "    if stock == 0 and client == 0 and j + 1 < len(clients):\n",
        "        nwa[i][j + 1] = 0\n",
        "    if stock == 0:\n",
        "        i += 1\n",
        "        if i < len(stocks):\n",
        "            stock = stocks[i]\n",
        "    if client == 0:\n",
        "        j += 1\n",
        "        if j < len(clients):\n",
        "            client = clients[j]\n",
        "    if j == len(clients) or i == len(stocks):\n",
        "        break"
      ]
    },
    {
      "cell_type": "markdown",
      "metadata": {
        "id": "BIS33uGafpX5"
      },
      "source": [
        "Знаходження оптимального плану методом потенціалів на основі попередньо знайденого опорного плану, а також обчислення загальних витрат на перевезення хворих, які є мінімальними витратами (див. функцію potenMeth() у розділі \"Опис функцій\"):"
      ]
    },
    {
      "cell_type": "markdown",
      "metadata": {
        "id": "dfNrFwGLhFTa"
      },
      "source": [
        "*Теорія до методу потенціалів* https://uk.wikipedia.org/wiki/Транспортна_задача#Метод_потенціалів"
      ]
    },
    {
      "cell_type": "code",
      "execution_count": 21,
      "metadata": {
        "colab": {
          "base_uri": "https://localhost:8080/"
        },
        "id": "jNmmlekLgQyE",
        "outputId": "7a450602-039f-4336-eeec-e687e266e110"
      },
      "outputs": [
        {
          "name": "stdout",
          "output_type": "stream",
          "text": [
            "Optimalna schema rozpodilu:\n",
            "    | B1   | B2   | B3   | B4   |\n",
            "A1  |      |    5 |   25 |      | 30\n",
            "A2  |      |   15 |      |      | 15\n",
            "A3  |   15 |      |      |   10 | 25\n",
            "    | 15   | 20   | 25   | 10   |\n",
            "Z punktu 1:\n",
            "\t5 odynyc klientu 2\n",
            "\t25 odynyc klientu 3\n",
            "Z punktu 2:\n",
            "\t15 odynyc klientu 2\n",
            "Z punktu 3:\n",
            "\t15 odynyc klientu 1\n",
            "\t10 odynyc klientu 4\n",
            "Minimalni vytraty F(x) = 1327.16\n"
          ]
        }
      ],
      "source": [
        "opt = potenMeth(nwa, stocks, clients, c)"
      ]
    },
    {
      "cell_type": "markdown",
      "metadata": {
        "id": "gj50J4Qk_hiH"
      },
      "source": [
        "## Висновки"
      ]
    },
    {
      "cell_type": "markdown",
      "metadata": {
        "id": "Ilc3RfNY_joM"
      },
      "source": [
        "Було реалізовано програму, яка вирішує транспортну задачу (ТЗ) знаходження оптимального шляху кур'єрської доставки товару клієнтам."
      ]
    },
    {
      "cell_type": "markdown",
      "metadata": {
        "id": "ApcuyvGTbydY"
      },
      "source": [
        "**ТЗ вирішувалась наступними методами**:\n",
        "* методом північно-західного кута (для знаходження опорного плану задачі)\n",
        "* методом потенціалів (для знаходження оптимального плану задачі)"
      ]
    },
    {
      "cell_type": "markdown",
      "metadata": {
        "id": "W7o7WXTHcReR"
      },
      "source": [
        "**Початкові дані для ТЗ**. Обсяг товару у віддяленнях, з яких доставляється товар клієнтам, становив 30, 15 та 25. Кількість товару, на який очікували клієнти - 15, 20, 25 та 10. Координати пунктів доставки: (0;10), (15;5), (10;0). Координати пунктів призначення, де клієнти очікували на товар: (25;0), (15;10), (5;15), (20;5). Фіксована вартість доставки за одиницю відстані - 2."
      ]
    },
    {
      "cell_type": "markdown",
      "metadata": {
        "id": "yDIPlOL7cp76"
      },
      "source": [
        "Після перевірки задачі на закритість, шляхом знаходження опорного плану, а потім його вдосконалення до моменту знаходження оптимального плану, дану задачу було вирішено."
      ]
    },
    {
      "cell_type": "markdown",
      "metadata": {
        "id": "c5NyPlPkfqfG"
      },
      "source": [
        "**Мінімальні витрати** на доставку товару з відділень клієнтам за оптимальним маршрутом становлять *1327,16*."
      ]
    },
    {
      "cell_type": "markdown",
      "metadata": {
        "id": "UBQiZzbXgRP9"
      },
      "source": [
        "При цьому, **оптимальна схема розподілу** виглядає наступним чином:\n",
        "* з пункту 1 доставлено 5 одиниць товару клієнту 2 та 25 одиниць товару клієнту 3;\n",
        "* з пункту 2 доставлено 15 одиниць товару клієнту 2;\n",
        "* з пункту 3 доставлено 15 одиниць товару клієнту 1 та 10 одиниць товару клієнту 4."
      ]
    },
    {
      "cell_type": "markdown",
      "metadata": {
        "id": "RNDQkpx1_m7b"
      },
      "source": [
        "## Про виконавця"
      ]
    },
    {
      "cell_type": "markdown",
      "metadata": {
        "id": "1eddRQHd_nzE"
      },
      "source": [
        "**Біцан Ігор, група КМ-82**"
      ]
    },
    {
      "cell_type": "markdown",
      "metadata": {
        "id": "31z7ArhD_5WK"
      },
      "source": [
        "**Контактний номер**: +380965505633"
      ]
    },
    {
      "cell_type": "markdown",
      "metadata": {
        "id": "DBZhclc-_8FP"
      },
      "source": [
        "**E-mail**: igorbitsan@gmail.com"
      ]
    },
    {
      "cell_type": "markdown",
      "metadata": {
        "id": "uO3tZiDT_q5M"
      },
      "source": [
        "## Посилання"
      ]
    },
    {
      "cell_type": "markdown",
      "metadata": {
        "id": "8-TXb9TD_sMI"
      },
      "source": [
        "***Список джерел, які було використано під час виконання даної курсової роботи:***\n",
        "\n",
        "1. https://dspace.spbu.ru/bitstream/11701/11645/1/Magisterskaya_SHavidze.pdf\n",
        "2. https://uk.wikipedia.org/wiki/Транспортна_задача#Метод_потенціалів\n",
        "3. https://matworld.ru/linear-programming/transportnaya-zadacha.php\n",
        "4. https://math.semestr.ru/transp/transport.php\n",
        "5. http://galyautdinov.ru/post/transportnaya-zadacha"
      ]
    }
  ],
  "metadata": {
    "colab": {
      "name": "courier-delivery-route-modeling.ipynb",
      "provenance": []
    },
    "kernelspec": {
      "display_name": "Python 3",
      "name": "python3"
    },
    "language_info": {
      "codemirror_mode": {
        "name": "ipython",
        "version": 3
      },
      "file_extension": ".py",
      "mimetype": "text/x-python",
      "name": "python",
      "nbconvert_exporter": "python",
      "pygments_lexer": "ipython3",
      "version": "3.10.1"
    }
  },
  "nbformat": 4,
  "nbformat_minor": 0
}
